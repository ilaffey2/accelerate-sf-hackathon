{
 "cells": [
  {
   "cell_type": "code",
   "execution_count": 2,
   "id": "2a46466d",
   "metadata": {},
   "outputs": [],
   "source": [
    "import openai \n",
    "import os\n",
    "import inspect, json\n",
    "from inspect import Parameter\n",
    "from pydantic import create_model\n",
    "from openai import ChatCompletion, Completion\n",
    "\n",
    "from dotenv import load_dotenv\n",
    "\n",
    "load_dotenv()\n",
    "openai.api_key = os.getenv(\"OPENAI_API_KEY\")"
   ]
  },
  {
   "cell_type": "code",
   "execution_count": 3,
   "id": "f1da2336",
   "metadata": {},
   "outputs": [],
   "source": [
    "def schema(f):\n",
    "    kw = {n:(o.annotation, ... if o.default==Parameter.empty else o.default)\n",
    "          for n,o in inspect.signature(f).parameters.items()}\n",
    "    s = create_model(f'Input for `{f.__name__}`', **kw).schema()\n",
    "\n",
    "    return dict(name=f.__name__, description=f.__doc__, parameters=s)"
   ]
  },
  {
   "cell_type": "code",
   "execution_count": 4,
   "id": "6b3e2261",
   "metadata": {},
   "outputs": [],
   "source": [
    "def askgpt(user, system=None, model=\"gpt-3.5-turbo\", **kwargs):\n",
    "    msgs = []\n",
    "    if system: msgs.append({\"role\": \"system\", \"content\": system})\n",
    "    msgs.append({\"role\": \"user\", \"content\": user})\n",
    "    return ChatCompletion.create(model=model, messages=msgs, **kwargs)"
   ]
  },
  {
   "cell_type": "code",
   "execution_count": 5,
   "id": "de5bf05e",
   "metadata": {},
   "outputs": [],
   "source": [
    "def sums(a:int, b:int=1):\n",
    "    \"Adds a + b\"\n",
    "    return a + b"
   ]
  },
  {
   "cell_type": "code",
   "execution_count": 6,
   "id": "2140b122",
   "metadata": {},
   "outputs": [
    {
     "name": "stderr",
     "output_type": "stream",
     "text": [
      "/var/folders/xj/ht87czwd6h74xh7b8zjync1w0000gn/T/ipykernel_60551/3125953927.py:4: PydanticDeprecatedSince20: The `schema` method is deprecated; use `model_json_schema` instead. Deprecated in Pydantic V2.0 to be removed in V3.0. See Pydantic V2 Migration Guide at https://errors.pydantic.dev/2.4/migration/\n",
      "  s = create_model(f'Input for `{f.__name__}`', **kw).schema()\n"
     ]
    },
    {
     "data": {
      "text/plain": [
       "{'name': 'sums',\n",
       " 'description': 'Adds a + b',\n",
       " 'parameters': {'properties': {'a': {'title': 'A', 'type': 'integer'},\n",
       "   'b': {'default': 1, 'title': 'B', 'type': 'integer'}},\n",
       "  'required': ['a'],\n",
       "  'title': 'Input for `sums`',\n",
       "  'type': 'object'}}"
      ]
     },
     "execution_count": 6,
     "metadata": {},
     "output_type": "execute_result"
    }
   ],
   "source": [
    "schema(sums)"
   ]
  },
  {
   "cell_type": "code",
   "execution_count": 8,
   "id": "90a1066d",
   "metadata": {},
   "outputs": [
    {
     "data": {
      "text/plain": [
       "<OpenAIObject chat.completion id=chatcmpl-8HJz6DPzANGRZd0cl1KWDUjell6BJ at 0x10a06a9f0> JSON: {\n",
       "  \"id\": \"chatcmpl-8HJz6DPzANGRZd0cl1KWDUjell6BJ\",\n",
       "  \"object\": \"chat.completion\",\n",
       "  \"created\": 1699139088,\n",
       "  \"model\": \"gpt-3.5-turbo-0613\",\n",
       "  \"choices\": [\n",
       "    {\n",
       "      \"index\": 0,\n",
       "      \"message\": {\n",
       "        \"role\": \"assistant\",\n",
       "        \"content\": \"The sum of 1 + 1 is 2.\"\n",
       "      },\n",
       "      \"finish_reason\": \"stop\"\n",
       "    }\n",
       "  ],\n",
       "  \"usage\": {\n",
       "    \"prompt_tokens\": 15,\n",
       "    \"completion_tokens\": 12,\n",
       "    \"total_tokens\": 27\n",
       "  }\n",
       "}"
      ]
     },
     "execution_count": 8,
     "metadata": {},
     "output_type": "execute_result"
    }
   ],
   "source": [
    "askgpt(\"What is 1 + 1?\")"
   ]
  },
  {
   "cell_type": "code",
   "execution_count": null,
   "id": "fc6935df",
   "metadata": {},
   "outputs": [],
   "source": []
  }
 ],
 "metadata": {
  "kernelspec": {
   "display_name": "backend-KzFl9N5q-py3.9",
   "language": "python",
   "name": "python3"
  },
  "language_info": {
   "codemirror_mode": {
    "name": "ipython",
    "version": 3
   },
   "file_extension": ".py",
   "mimetype": "text/x-python",
   "name": "python",
   "nbconvert_exporter": "python",
   "pygments_lexer": "ipython3",
   "version": "3.9.1"
  }
 },
 "nbformat": 4,
 "nbformat_minor": 5
}
